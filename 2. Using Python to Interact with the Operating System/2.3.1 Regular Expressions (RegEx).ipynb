{
 "cells": [
  {
   "cell_type": "markdown",
   "id": "32a3e425",
   "metadata": {},
   "source": [
    "# Why Use Regular Expressions?"
   ]
  },
  {
   "cell_type": "markdown",
   "id": "0c8a7b13",
   "metadata": {},
   "source": [
    "### Before starting Regular Expression (RegEx), let's take an example without using RegEx.\n",
    "* Let's say we have log entries with a typical log line format, we want to extract the process identifier from this line, which is a number between the square brackets '12345'. \n",
    "* There's a lot of extra text in this log line that we don't need, like the date, the computer name and other info. We could extract the process ID by using the index method to find the first square bracket in the string.\n",
    "* Why not straight find the number '1'? Because there are other texts also '1', only square bracket has the only special character in the log entry."
   ]
  },
  {
   "cell_type": "code",
   "execution_count": 3,
   "id": "daa3d4f9",
   "metadata": {},
   "outputs": [
    {
     "data": {
      "text/plain": [
       "39"
      ]
     },
     "execution_count": 3,
     "metadata": {},
     "output_type": "execute_result"
    }
   ],
   "source": [
    "log = \"July 31 07:51:48 mycomputer bad_process[12345]: ERROR Perfroming package upgrade\"\n",
    "log.index(\"[\")"
   ]
  },
  {
   "cell_type": "markdown",
   "id": "08cb1be0",
   "metadata": {},
   "source": [
    "**Brittle way to extracting numbers by using index() function**\n",
    "* Assign the index of open square bracket to a variable, and then use masking technique + indexing to extract the number of '12345'"
   ]
  },
  {
   "cell_type": "code",
   "execution_count": 15,
   "id": "c518b609",
   "metadata": {},
   "outputs": [
    {
     "name": "stdout",
     "output_type": "stream",
     "text": [
      "12345\n"
     ]
    }
   ],
   "source": [
    "index = log.index(\"[\")\n",
    "print(log[index+1 : index+6])"
   ]
  },
  {
   "cell_type": "markdown",
   "id": "abc92769",
   "metadata": {},
   "source": [
    "**Although we get the text that we wanted, we might hit a few bumps down the road. One problem is we don't know for sure how long the process ID string will be in all cases. In this example, we can see that it's 5 characters long.\n",
    "But that may change in the future if the computers restarted, or the number of processes increases. This could also break if for any reason, the line includes another square bracket before the process ID. So it's a solution but it's a very brittle one.** \n",
    "* Instead, we could use a RegEx to extract the process ID in a more robust fashion. For that, we're going to import the re module, which let's us use the search() function to search a text for strings matching a spcific pattern."
   ]
  },
  {
   "cell_type": "code",
   "execution_count": 25,
   "id": "1a135292",
   "metadata": {},
   "outputs": [
    {
     "name": "stdout",
     "output_type": "stream",
     "text": [
      "12345\n"
     ]
    }
   ],
   "source": [
    "import re\n",
    "log = \"July 31 07:51:48 mycomputer bad_process[12345]: ERROR Perfroming package upgrade\"\n",
    "\n",
    "regex = r\"\\[(\\d+)\\]\"\n",
    "result = re.search(regex, log)\n",
    "print(result[1])"
   ]
  }
 ],
 "metadata": {
  "kernelspec": {
   "display_name": "Python 3",
   "language": "python",
   "name": "python3"
  },
  "language_info": {
   "codemirror_mode": {
    "name": "ipython",
    "version": 3
   },
   "file_extension": ".py",
   "mimetype": "text/x-python",
   "name": "python",
   "nbconvert_exporter": "python",
   "pygments_lexer": "ipython3",
   "version": "3.8.8"
  }
 },
 "nbformat": 4,
 "nbformat_minor": 5
}
