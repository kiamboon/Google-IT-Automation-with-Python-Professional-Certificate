{
 "cells": [
  {
   "cell_type": "markdown",
   "id": "6b1f198b",
   "metadata": {},
   "source": [
    "# Working with Files"
   ]
  },
  {
   "cell_type": "markdown",
   "id": "11ea3ebd",
   "metadata": {},
   "source": [
    "## Import module\n",
    "* OS module provides a layer of abstraction between Python and the operating system"
   ]
  },
  {
   "cell_type": "code",
   "execution_count": 2,
   "id": "5c34e2d7",
   "metadata": {},
   "outputs": [],
   "source": [
    "import os"
   ]
  },
  {
   "cell_type": "markdown",
   "id": "8660475c",
   "metadata": {},
   "source": [
    "## remove() function deletes a file\n",
    "* If file is not exist, will return FileNotFoundError\n",
    "* If successful executed, no output will be shown."
   ]
  },
  {
   "cell_type": "code",
   "execution_count": 8,
   "id": "6975c259",
   "metadata": {},
   "outputs": [],
   "source": [
    "os.remove(\"guests.txt\")  # guests.txt will be deleted in the same directory where we open this .ipynb file"
   ]
  },
  {
   "cell_type": "markdown",
   "id": "d73c3d82",
   "metadata": {},
   "source": [
    "## rename() function renames a file\n",
    "* The first parameter to rename function is the old name of the file and the second is new name"
   ]
  },
  {
   "cell_type": "code",
   "execution_count": 9,
   "id": "0c0edb8f",
   "metadata": {},
   "outputs": [],
   "source": [
    "os.rename(\"spider.txt\", \"spider_rename.txt\")  # The purpose I use two line of codes is to remain the spider's file /\n",
    "os.rename(\"spider_rename.txt\", \"spider.txt\")  # remains unchanged."
   ]
  },
  {
   "cell_type": "markdown",
   "id": "9f777bc7",
   "metadata": {},
   "source": [
    "## The OS path sub-module's exists() function checks whether a file exist"
   ]
  },
  {
   "cell_type": "code",
   "execution_count": 10,
   "id": "b4e75fec",
   "metadata": {},
   "outputs": [
    {
     "data": {
      "text/plain": [
       "False"
      ]
     },
     "execution_count": 10,
     "metadata": {},
     "output_type": "execute_result"
    }
   ],
   "source": [
    "os.path.exists(\"spider_rename.txt\")"
   ]
  },
  {
   "cell_type": "code",
   "execution_count": 11,
   "id": "0be21ddd",
   "metadata": {},
   "outputs": [
    {
     "data": {
      "text/plain": [
       "True"
      ]
     },
     "execution_count": 11,
     "metadata": {},
     "output_type": "execute_result"
    }
   ],
   "source": [
    "os.path.exists(\"spider.txt\")"
   ]
  },
  {
   "cell_type": "markdown",
   "id": "6e1a9395",
   "metadata": {},
   "source": [
    "---\n",
    "# More File Information"
   ]
  },
  {
   "cell_type": "markdown",
   "id": "fe18f5b9",
   "metadata": {},
   "source": [
    "## getsize() function checks a file size and returns the file size in bytes"
   ]
  },
  {
   "cell_type": "code",
   "execution_count": 3,
   "id": "86ce05ac",
   "metadata": {},
   "outputs": [
    {
     "data": {
      "text/plain": [
       "560"
      ]
     },
     "execution_count": 3,
     "metadata": {},
     "output_type": "execute_result"
    }
   ],
   "source": [
    "os.path.getsize(\"spider.txt\")  # 560 bytes"
   ]
  },
  {
   "cell_type": "markdown",
   "id": "107f6ff2",
   "metadata": {},
   "source": [
    "## getmtime() checks when the file was last modified and returns Unix timestamp\n",
    "* The 4th letter of m shorts for modified"
   ]
  },
  {
   "cell_type": "code",
   "execution_count": 4,
   "id": "213c0195",
   "metadata": {},
   "outputs": [
    {
     "data": {
      "text/plain": [
       "1623506006.4561481"
      ]
     },
     "execution_count": 4,
     "metadata": {},
     "output_type": "execute_result"
    }
   ],
   "source": [
    "os.path.getmtime(\"spider.txt\")"
   ]
  },
  {
   "cell_type": "markdown",
   "id": "3a3678e1",
   "metadata": {},
   "source": [
    "## The datetime module provides a function to convert the Unix timestamp"
   ]
  },
  {
   "cell_type": "code",
   "execution_count": 6,
   "id": "3cbecbb1",
   "metadata": {},
   "outputs": [
    {
     "data": {
      "text/plain": [
       "datetime.datetime(2021, 6, 12, 21, 53, 26, 456148)"
      ]
     },
     "execution_count": 6,
     "metadata": {},
     "output_type": "execute_result"
    }
   ],
   "source": [
    "import datetime as dt\n",
    "\n",
    "timestamp = os.path.getmtime(\"spider.txt\")\n",
    "dt.datetime.fromtimestamp(timestamp)"
   ]
  },
  {
   "cell_type": "markdown",
   "id": "037f174d",
   "metadata": {},
   "source": [
    "Some more functions of the os.path module include `getsize()` and `isfile()` which get information on the file size and determine if a file exists, respectively. If the file doesn't exist, it will be show as following."
   ]
  },
  {
   "cell_type": "code",
   "execution_count": 12,
   "id": "a50531f0",
   "metadata": {},
   "outputs": [
    {
     "name": "stdout",
     "output_type": "stream",
     "text": [
      "False\n",
      "File not found\n"
     ]
    }
   ],
   "source": [
    "file = \"file.dat\"\n",
    "\n",
    "if os.path.isfile(file):\n",
    "    print(os.path.isfile(file))\n",
    "    print(os.path.getsize(file))\n",
    "else:\n",
    "    print(os.path.isfile(file))\n",
    "    print(\"File not found\")"
   ]
  },
  {
   "cell_type": "markdown",
   "id": "eb7c7df1",
   "metadata": {},
   "source": [
    "## abspath() function takes a filename and turns it into an absolute path"
   ]
  },
  {
   "cell_type": "code",
   "execution_count": 13,
   "id": "92f270be",
   "metadata": {},
   "outputs": [
    {
     "data": {
      "text/plain": [
       "'D:\\\\iCloud Drive\\\\Online Courses\\\\Coursera\\\\Google IT Automation with Python Professional Certificate\\\\spider.txt'"
      ]
     },
     "execution_count": 13,
     "metadata": {},
     "output_type": "execute_result"
    }
   ],
   "source": [
    "os.path.abspath(\"spider.txt\")"
   ]
  },
  {
   "cell_type": "markdown",
   "id": "0b58233e",
   "metadata": {},
   "source": [
    "---\n",
    "# Directories"
   ]
  },
  {
   "cell_type": "markdown",
   "id": "85a9e208",
   "metadata": {},
   "source": [
    "## getcwd() function checks which current directory the Python program is executing\n",
    "* cwd short for current working directory"
   ]
  },
  {
   "cell_type": "code",
   "execution_count": 2,
   "id": "9f2fbe97",
   "metadata": {},
   "outputs": [
    {
     "data": {
      "text/plain": [
       "'D:\\\\iCloud Drive\\\\Online Courses\\\\Coursera\\\\Google IT Automation with Python Professional Certificate'"
      ]
     },
     "execution_count": 2,
     "metadata": {},
     "output_type": "execute_result"
    }
   ],
   "source": [
    "os.getcwd()"
   ]
  },
  {
   "cell_type": "markdown",
   "id": "803f1713",
   "metadata": {},
   "source": [
    "## mkdir() function creates a directory\n",
    "* No output but it will create a new folder 'new_dir' in the directory where we opened this .ipynb file"
   ]
  },
  {
   "cell_type": "code",
   "execution_count": 7,
   "id": "8e1d9c57",
   "metadata": {},
   "outputs": [],
   "source": [
    "os.mkdir(\"new_dir\")"
   ]
  },
  {
   "cell_type": "markdown",
   "id": "6e2b3c5c",
   "metadata": {},
   "source": [
    "## chdir function changes a directory"
   ]
  },
  {
   "cell_type": "code",
   "execution_count": 5,
   "id": "d30bda93",
   "metadata": {},
   "outputs": [
    {
     "name": "stdout",
     "output_type": "stream",
     "text": [
      "D:\\iCloud Drive\\Online Courses\\Coursera\\Google IT Automation with Python Professional Certificate\\new_dir\n"
     ]
    },
    {
     "data": {
      "text/plain": [
       "'D:\\\\iCloud Drive\\\\Online Courses\\\\Coursera\\\\Google IT Automation with Python Professional Certificate'"
      ]
     },
     "execution_count": 5,
     "metadata": {},
     "output_type": "execute_result"
    }
   ],
   "source": [
    "os.chdir(\"new_dir\")\n",
    "print(os.getcwd())\n",
    "\n",
    "os.chdir(\"..\")\n",
    "os.getcwd()"
   ]
  },
  {
   "cell_type": "markdown",
   "id": "b64399bd",
   "metadata": {},
   "source": [
    "## rmdir() function removes a directory\n",
    "* No output but will remove new_dir folder behind the scene\n",
    "* rmdir() function will only work if the folder is exist or the folder is empty\n",
    "* If the folder has file(s), it will return OSError"
   ]
  },
  {
   "cell_type": "code",
   "execution_count": 25,
   "id": "f580e6d7",
   "metadata": {},
   "outputs": [],
   "source": [
    "os.rmdir(os.path.abspath(\"new_dir\"))"
   ]
  },
  {
   "cell_type": "markdown",
   "id": "d9fa0689",
   "metadata": {},
   "source": [
    "## The os.listdir() function returns a list of all the files and sub-directories in a given directory.\n",
    "* If no arg. given, it will return the list of all the file in current directory (where we open this .ipynb file)"
   ]
  },
  {
   "cell_type": "code",
   "execution_count": 12,
   "id": "6dc066e5",
   "metadata": {},
   "outputs": [
    {
     "data": {
      "text/plain": [
       "['spider.txt']"
      ]
     },
     "execution_count": 12,
     "metadata": {},
     "output_type": "execute_result"
    }
   ],
   "source": [
    "os.listdir(\"new_dir\")"
   ]
  },
  {
   "cell_type": "code",
   "execution_count": 14,
   "id": "521a075d",
   "metadata": {},
   "outputs": [
    {
     "data": {
      "text/plain": [
       "['.ipynb_checkpoints',\n",
       " '1.1 Hello Python!.py',\n",
       " '1.2 Basic Python Syntax.py',\n",
       " '1.3 Loops.py',\n",
       " '1.4 Strings, Lists and Dictionaries.py',\n",
       " '1.5.1 Object Oriented Programming.ipynb',\n",
       " '1.5.2a Class and Methods.ipynb',\n",
       " '1.5.2b Lab - Methods and Classes.ipynb',\n",
       " '1.5.3 Lab - Code Reuse.ipynb',\n",
       " '1.5.4 Lab - Object Oriented Programming.ipynb',\n",
       " '1.6 Final Project.py',\n",
       " '1.6.1 Lab - Putting It All Together.ipynb',\n",
       " '1.6.2 Final Project - Word Cloud.ipynb',\n",
       " '2.1.6 Qwiklabs Assessment - Working with Python Scripts.png',\n",
       " '2.1.6a health_checks.py',\n",
       " '2.1.6b network.py',\n",
       " '2.2.1 Lab - Text Files.ipynb',\n",
       " '2.2.2a Working with Files.ipynb',\n",
       " '2.2.2b More File Information.ipynb',\n",
       " '2.2.2c Directories.ipynb',\n",
       " 'alice_novel.txt',\n",
       " 'csv_file.txt',\n",
       " 'new_dir',\n",
       " 'spider.txt']"
      ]
     },
     "execution_count": 14,
     "metadata": {},
     "output_type": "execute_result"
    }
   ],
   "source": [
    "os.listdir()"
   ]
  },
  {
   "cell_type": "markdown",
   "id": "ab04c9fc",
   "metadata": {},
   "source": [
    "**listdir() function returns file names which are strings, since they're just strings, we don't know if they're directories or files.\n",
    "If we want to know whether one of these files is a directory, we need to use `os.path.join` to create the full path.**\n",
    "* In MacOS and Linux, the portions of a file are split using a forward slash (/), on Windows, it is split using a backslash (\\\\).\n",
    "* So.. by using the `os.path.join` function instead of explicitly adding a slash, we can make sure out scripts work with all operating systems."
   ]
  },
  {
   "cell_type": "code",
   "execution_count": 23,
   "id": "868dc2d3",
   "metadata": {},
   "outputs": [
    {
     "name": "stdout",
     "output_type": "stream",
     "text": [
      "..\\Google IT Automation with Python Professional Certificate\\.ipynb_checkpoints is a directory\n",
      "..\\Google IT Automation with Python Professional Certificate\\.ipynb_checkpoints is a file.\n",
      "..\\Google IT Automation with Python Professional Certificate\\1.1 Hello Python!.py is a file.\n",
      "..\\Google IT Automation with Python Professional Certificate\\1.2 Basic Python Syntax.py is a file.\n",
      "..\\Google IT Automation with Python Professional Certificate\\1.3 Loops.py is a file.\n",
      "..\\Google IT Automation with Python Professional Certificate\\1.4 Strings, Lists and Dictionaries.py is a file.\n",
      "..\\Google IT Automation with Python Professional Certificate\\1.5.1 Object Oriented Programming.ipynb is a file.\n",
      "..\\Google IT Automation with Python Professional Certificate\\1.5.2a Class and Methods.ipynb is a file.\n",
      "..\\Google IT Automation with Python Professional Certificate\\1.5.2b Lab - Methods and Classes.ipynb is a file.\n",
      "..\\Google IT Automation with Python Professional Certificate\\1.5.3 Lab - Code Reuse.ipynb is a file.\n",
      "..\\Google IT Automation with Python Professional Certificate\\1.5.4 Lab - Object Oriented Programming.ipynb is a file.\n",
      "..\\Google IT Automation with Python Professional Certificate\\1.6 Final Project.py is a file.\n",
      "..\\Google IT Automation with Python Professional Certificate\\1.6.1 Lab - Putting It All Together.ipynb is a file.\n",
      "..\\Google IT Automation with Python Professional Certificate\\1.6.2 Final Project - Word Cloud.ipynb is a file.\n",
      "..\\Google IT Automation with Python Professional Certificate\\2.1.6 Qwiklabs Assessment - Working with Python Scripts.png is a file.\n",
      "..\\Google IT Automation with Python Professional Certificate\\2.1.6a health_checks.py is a file.\n",
      "..\\Google IT Automation with Python Professional Certificate\\2.1.6b network.py is a file.\n",
      "..\\Google IT Automation with Python Professional Certificate\\2.2.1 Lab - Text Files.ipynb is a file.\n",
      "..\\Google IT Automation with Python Professional Certificate\\2.2.2a Working with Files.ipynb is a file.\n",
      "..\\Google IT Automation with Python Professional Certificate\\2.2.2b More File Information.ipynb is a file.\n",
      "..\\Google IT Automation with Python Professional Certificate\\2.2.2c Directories.ipynb is a file.\n",
      "..\\Google IT Automation with Python Professional Certificate\\alice_novel.txt is a file.\n",
      "..\\Google IT Automation with Python Professional Certificate\\csv_file.txt is a file.\n",
      "..\\Google IT Automation with Python Professional Certificate\\new_dir is a directory\n",
      "..\\Google IT Automation with Python Professional Certificate\\new_dir is a file.\n",
      "..\\Google IT Automation with Python Professional Certificate\\spider.txt is a file.\n"
     ]
    }
   ],
   "source": [
    "dir = \"..\\Google IT Automation with Python Professional Certificate\"\n",
    "\n",
    "for name in os.listdir(dir):\n",
    "    fullname = os.path.join(dir, name)\n",
    "    if os.path.isdir(fullname):\n",
    "        print(f\"{fullname} is a directory\")\n",
    "    print(f\"{fullname} is a file.\")"
   ]
  }
 ],
 "metadata": {
  "kernelspec": {
   "display_name": "Python 3",
   "language": "python",
   "name": "python3"
  },
  "language_info": {
   "codemirror_mode": {
    "name": "ipython",
    "version": 3
   },
   "file_extension": ".py",
   "mimetype": "text/x-python",
   "name": "python",
   "nbconvert_exporter": "python",
   "pygments_lexer": "ipython3",
   "version": "3.8.8"
  }
 },
 "nbformat": 4,
 "nbformat_minor": 5
}
