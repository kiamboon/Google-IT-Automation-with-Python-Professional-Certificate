{
 "cells": [
  {
   "cell_type": "markdown",
   "id": "11ea3ebd",
   "metadata": {},
   "source": [
    "## Import necessary module\n",
    "* OS module provides a layer of abstraction between Python and the operating system"
   ]
  },
  {
   "cell_type": "code",
   "execution_count": 2,
   "id": "5c34e2d7",
   "metadata": {},
   "outputs": [],
   "source": [
    "import os"
   ]
  },
  {
   "cell_type": "markdown",
   "id": "8660475c",
   "metadata": {},
   "source": [
    "## remove() function deletes a file\n",
    "* If file is not exist, will return FileNotFoundError\n",
    "* If successful executed, no output will be shown."
   ]
  },
  {
   "cell_type": "code",
   "execution_count": 8,
   "id": "6975c259",
   "metadata": {},
   "outputs": [],
   "source": [
    "os.remove(\"guests.txt\")  # guests.txt will be deleted in the same directory where we open this .ipynb file"
   ]
  },
  {
   "cell_type": "markdown",
   "id": "d73c3d82",
   "metadata": {},
   "source": [
    "## rename() function renames a file\n",
    "* The first parameter to rename function is the old name of the file and the second is new name"
   ]
  },
  {
   "cell_type": "code",
   "execution_count": 9,
   "id": "0c0edb8f",
   "metadata": {},
   "outputs": [],
   "source": [
    "os.rename(\"spider.txt\", \"spider_rename.txt\")  # The purpose I use two line of codes is to remain the spider's file /\n",
    "os.rename(\"spider_rename.txt\", \"spider.txt\")  # remains unchanged."
   ]
  },
  {
   "cell_type": "markdown",
   "id": "9f777bc7",
   "metadata": {},
   "source": [
    "## The OS path sub-module's exists() function checks whether a file exist"
   ]
  },
  {
   "cell_type": "code",
   "execution_count": 10,
   "id": "b4e75fec",
   "metadata": {},
   "outputs": [
    {
     "data": {
      "text/plain": [
       "False"
      ]
     },
     "execution_count": 10,
     "metadata": {},
     "output_type": "execute_result"
    }
   ],
   "source": [
    "os.path.exists(\"spider_rename.txt\")"
   ]
  },
  {
   "cell_type": "code",
   "execution_count": 11,
   "id": "0be21ddd",
   "metadata": {},
   "outputs": [
    {
     "data": {
      "text/plain": [
       "True"
      ]
     },
     "execution_count": 11,
     "metadata": {},
     "output_type": "execute_result"
    }
   ],
   "source": [
    "os.path.exists(\"spider.txt\")"
   ]
  }
 ],
 "metadata": {
  "kernelspec": {
   "display_name": "Python 3",
   "language": "python",
   "name": "python3"
  },
  "language_info": {
   "codemirror_mode": {
    "name": "ipython",
    "version": 3
   },
   "file_extension": ".py",
   "mimetype": "text/x-python",
   "name": "python",
   "nbconvert_exporter": "python",
   "pygments_lexer": "ipython3",
   "version": "3.8.8"
  }
 },
 "nbformat": 4,
 "nbformat_minor": 5
}
