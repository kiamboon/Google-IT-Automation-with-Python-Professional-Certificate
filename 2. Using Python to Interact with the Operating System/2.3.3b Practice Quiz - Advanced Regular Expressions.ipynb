{
 "cells": [
  {
   "cell_type": "markdown",
   "id": "ddb372f5",
   "metadata": {},
   "source": [
    "**We're working with a CSV file, which contains employee information. Each record has a name field, followed by a phone number field, and a role field. The phone number field contains U.S. phone numbers, and needs to be modified to the international format, with \"+1-\" in front of the phone number.**"
   ]
  },
  {
   "cell_type": "code",
   "execution_count": 12,
   "id": "96a1b50a",
   "metadata": {},
   "outputs": [
    {
     "name": "stdout",
     "output_type": "stream",
     "text": [
      "Sabrina Green,+1-802-867-5309,System Administrator\n",
      "Eli Jones,+1-684-3481127,IT specialist\n",
      "Melody Daniels,+1-846-687-7436,Programmer\n",
      "Charlie Rivera,+1-698-746-3357,Web Developer\n"
     ]
    }
   ],
   "source": [
    "import re\n",
    "\n",
    "def transform_record(record):\n",
    "    new_record = re.sub(r\",(\\d{3})\",r\",+1-\\1\",record)\n",
    "    return new_record\n",
    "\n",
    "print(transform_record(\"Sabrina Green,802-867-5309,System Administrator\"))\n",
    "print(transform_record(\"Eli Jones,684-3481127,IT specialist\"))\n",
    "print(transform_record(\"Melody Daniels,846-687-7436,Programmer\"))\n",
    "print(transform_record(\"Charlie Rivera,698-746-3357,Web Developer\"))"
   ]
  },
  {
   "cell_type": "markdown",
   "id": "32e9b896",
   "metadata": {},
   "source": [
    "**The multi_vowel_words function returns all words with 3 or more consecutive vowels (a, e, i, o, u).**"
   ]
  },
  {
   "cell_type": "code",
   "execution_count": 13,
   "id": "c683b9d0",
   "metadata": {},
   "outputs": [
    {
     "name": "stdout",
     "output_type": "stream",
     "text": [
      "['beautiful']\n",
      "['Obviously', 'queen', 'courageous', 'gracious']\n",
      "['rambunctious', 'quietly', 'delicious']\n",
      "['queue']\n",
      "[]\n"
     ]
    }
   ],
   "source": [
    "def multi_vowel_words(text):\n",
    "    pattern = r\"(\\w+[a,e,i,o,u]{3,}\\w+)\"\n",
    "    result = re.findall(pattern, text)\n",
    "    return result\n",
    "\n",
    "print(multi_vowel_words(\"Life is beautiful\")) \n",
    "print(multi_vowel_words(\"Obviously, the queen is courageous and gracious.\")) \n",
    "print(multi_vowel_words(\"The rambunctious children had to sit quietly and await their delicious dinner.\")) \n",
    "print(multi_vowel_words(\"The order of a data queue is First In First Out (FIFO)\")) \n",
    "print(multi_vowel_words(\"Hello world!\")) "
   ]
  },
  {
   "cell_type": "markdown",
   "id": "c4287fcc",
   "metadata": {},
   "source": [
    "**The transform_comments function converts comments in a Python script into those usable by a C compiler. This means looking for text that begins with a hash mark (#) and replacing it with double slashes (//), which is the C single-line comment indicator. For the purpose of this exercise, we'll ignore the possibility of a hash mark embedded inside of a Python command, and assume that it's only used to indicate a comment. We also want to treat repetitive hash marks (##), (###), etc., as a single comment indicator, to be replaced with just (//) and not (#//) or (//#).**"
   ]
  },
  {
   "cell_type": "code",
   "execution_count": 14,
   "id": "845146a9",
   "metadata": {},
   "outputs": [
    {
     "name": "stdout",
     "output_type": "stream",
     "text": [
      "// Start of program\n",
      "  number = 0   // Initialize the variable\n",
      "  number += 1   // Increment the variable\n",
      "  return(number)\n"
     ]
    }
   ],
   "source": [
    "def transform_comments(line_of_code):\n",
    "    result = re.sub(r\"[\\#]{1,}\", \"//\",line_of_code)\n",
    "    return result\n",
    "\n",
    "print(transform_comments(\"### Start of program\")) \n",
    "print(transform_comments(\"  number = 0   ## Initialize the variable\")) \n",
    "print(transform_comments(\"  number += 1   # Increment the variable\")) \n",
    "print(transform_comments(\"  return(number)\")) "
   ]
  },
  {
   "cell_type": "markdown",
   "id": "813754ea",
   "metadata": {},
   "source": [
    "**The convert_phone_number function checks for a U.S. phone number format: XXX-XXX-XXXX (3 digits followed by a dash, 3 more digits followed by a dash, and 4 digits), and converts it to a more formal format that looks like this: (XXX) XXX-XXXX.**"
   ]
  },
  {
   "cell_type": "code",
   "execution_count": 16,
   "id": "76e73f02",
   "metadata": {},
   "outputs": [
    {
     "name": "stdout",
     "output_type": "stream",
     "text": [
      "My number is (212) 345-9999.\n",
      "Please call (888) 555-1234\n",
      "123-123-12345\n",
      "Phone number of Buckingham Palace is +44 303 123 7300\n"
     ]
    }
   ],
   "source": [
    "def convert_phone_number(phone):\n",
    "    result = re.sub(r\"\\b(\\d{3})-(\\d{3})-(\\d{4})\\b\",r\"(\\1) \\2-\\3\", phone)\n",
    "    return result\n",
    "\n",
    "print(convert_phone_number(\"My number is 212-345-9999.\")) # My number is (212) 345-9999.\n",
    "print(convert_phone_number(\"Please call 888-555-1234\")) # Please call (888) 555-1234\n",
    "print(convert_phone_number(\"123-123-12345\")) # 123-123-12345\n",
    "print(convert_phone_number(\"Phone number of Buckingham Palace is +44 303 123 7300\")) # Phone number of Buckingham Palace is +44 303 123 7300"
   ]
  }
 ],
 "metadata": {
  "kernelspec": {
   "display_name": "Python 3",
   "language": "python",
   "name": "python3"
  },
  "language_info": {
   "codemirror_mode": {
    "name": "ipython",
    "version": 3
   },
   "file_extension": ".py",
   "mimetype": "text/x-python",
   "name": "python",
   "nbconvert_exporter": "python",
   "pygments_lexer": "ipython3",
   "version": "3.8.8"
  }
 },
 "nbformat": 4,
 "nbformat_minor": 5
}
