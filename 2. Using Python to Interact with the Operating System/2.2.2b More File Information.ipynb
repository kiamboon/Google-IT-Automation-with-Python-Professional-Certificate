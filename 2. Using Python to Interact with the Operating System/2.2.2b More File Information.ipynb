{
 "cells": [
  {
   "cell_type": "code",
   "execution_count": 1,
   "id": "4678e188",
   "metadata": {},
   "outputs": [],
   "source": [
    "import os"
   ]
  },
  {
   "cell_type": "markdown",
   "id": "fe18f5b9",
   "metadata": {},
   "source": [
    "## getsize() function checks a file size and returns the file size in bytes"
   ]
  },
  {
   "cell_type": "code",
   "execution_count": 3,
   "id": "86ce05ac",
   "metadata": {},
   "outputs": [
    {
     "data": {
      "text/plain": [
       "560"
      ]
     },
     "execution_count": 3,
     "metadata": {},
     "output_type": "execute_result"
    }
   ],
   "source": [
    "os.path.getsize(\"spider.txt\")  # 560 bytes"
   ]
  },
  {
   "cell_type": "markdown",
   "id": "107f6ff2",
   "metadata": {},
   "source": [
    "## getmtime() checks when the file was last modified and returns Unix timestamp\n",
    "* The 4th letter of m shorts for modified"
   ]
  },
  {
   "cell_type": "code",
   "execution_count": 4,
   "id": "213c0195",
   "metadata": {},
   "outputs": [
    {
     "data": {
      "text/plain": [
       "1623506006.4561481"
      ]
     },
     "execution_count": 4,
     "metadata": {},
     "output_type": "execute_result"
    }
   ],
   "source": [
    "os.path.getmtime(\"spider.txt\")"
   ]
  },
  {
   "cell_type": "markdown",
   "id": "3a3678e1",
   "metadata": {},
   "source": [
    "## The datetime module provides a function to convert the Unix timestamp"
   ]
  },
  {
   "cell_type": "code",
   "execution_count": 6,
   "id": "3cbecbb1",
   "metadata": {},
   "outputs": [
    {
     "data": {
      "text/plain": [
       "datetime.datetime(2021, 6, 12, 21, 53, 26, 456148)"
      ]
     },
     "execution_count": 6,
     "metadata": {},
     "output_type": "execute_result"
    }
   ],
   "source": [
    "import datetime as dt\n",
    "\n",
    "timestamp = os.path.getmtime(\"spider.txt\")\n",
    "dt.datetime.fromtimestamp(timestamp)"
   ]
  },
  {
   "cell_type": "markdown",
   "id": "037f174d",
   "metadata": {},
   "source": [
    "Some more functions of the os.path module include `getsize()` and `isfile()` which get information on the file size and determine if a file exists, respectively. If the file doesn't exist, it will be show as following."
   ]
  },
  {
   "cell_type": "code",
   "execution_count": 12,
   "id": "a50531f0",
   "metadata": {},
   "outputs": [
    {
     "name": "stdout",
     "output_type": "stream",
     "text": [
      "False\n",
      "File not found\n"
     ]
    }
   ],
   "source": [
    "file = \"file.dat\"\n",
    "\n",
    "if os.path.isfile(file):\n",
    "    print(os.path.isfile(file))\n",
    "    print(os.path.getsize(file))\n",
    "else:\n",
    "    print(os.path.isfile(file))\n",
    "    print(\"File not found\")"
   ]
  },
  {
   "cell_type": "markdown",
   "id": "eb7c7df1",
   "metadata": {},
   "source": [
    "## abspath() function takes a filename and turns it into an absolute path"
   ]
  },
  {
   "cell_type": "code",
   "execution_count": 13,
   "id": "92f270be",
   "metadata": {},
   "outputs": [
    {
     "data": {
      "text/plain": [
       "'D:\\\\iCloud Drive\\\\Online Courses\\\\Coursera\\\\Google IT Automation with Python Professional Certificate\\\\spider.txt'"
      ]
     },
     "execution_count": 13,
     "metadata": {},
     "output_type": "execute_result"
    }
   ],
   "source": [
    "os.path.abspath(\"spider.txt\")"
   ]
  }
 ],
 "metadata": {
  "kernelspec": {
   "display_name": "Python 3",
   "language": "python",
   "name": "python3"
  },
  "language_info": {
   "codemirror_mode": {
    "name": "ipython",
    "version": 3
   },
   "file_extension": ".py",
   "mimetype": "text/x-python",
   "name": "python",
   "nbconvert_exporter": "python",
   "pygments_lexer": "ipython3",
   "version": "3.8.8"
  }
 },
 "nbformat": 4,
 "nbformat_minor": 5
}
