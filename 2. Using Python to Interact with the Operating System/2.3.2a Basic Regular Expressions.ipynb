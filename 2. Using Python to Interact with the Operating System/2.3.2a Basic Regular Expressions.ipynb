{
 "cells": [
  {
   "cell_type": "markdown",
   "id": "f9c9788f",
   "metadata": {},
   "source": [
    "# Simple Matching in Python\n",
    "* The r at the beginning of the pattern indicates that this is a rawstring.\n",
    "* The match attribute always has a value of the actual sub string that match the search pattern\n",
    "* The span attribute indicates the range where the sub string can be found in the string"
   ]
  },
  {
   "cell_type": "code",
   "execution_count": 1,
   "id": "24ffab6e",
   "metadata": {},
   "outputs": [
    {
     "name": "stdout",
     "output_type": "stream",
     "text": [
      "<re.Match object; span=(2, 5), match='aza'>\n",
      "<re.Match object; span=(1, 4), match='aza'>\n",
      "None\n"
     ]
    }
   ],
   "source": [
    "import re\n",
    "\n",
    "result = re.search(r\"aza\", \"plaza\")  # Span is the indexing number\n",
    "print(result)\n",
    "\n",
    "result = re.search(r\"aza\", \"bazaar\")\n",
    "print(result)\n",
    "\n",
    "result = re.search(r\"aza\", \"maze\")   # Not found will return None\n",
    "print(result)"
   ]
  },
  {
   "cell_type": "markdown",
   "id": "7dac5520",
   "metadata": {},
   "source": [
    "**Circumflex (^) means match the string that starts with the string mentioned after \\^**"
   ]
  },
  {
   "cell_type": "code",
   "execution_count": null,
   "id": "e5ad1f49",
   "metadata": {},
   "outputs": [],
   "source": [
    "print(re.search(r\"^x\", \"xerox\"))"
   ]
  },
  {
   "cell_type": "markdown",
   "id": "efdff6a5",
   "metadata": {},
   "source": [
    "**A dot (.) in regex is a metacharacter, it is used to match any character. To match a literal dot in a raw Python string (r\"\" or r''), we need to escape it, so r\"\\\\.\"**"
   ]
  },
  {
   "cell_type": "code",
   "execution_count": 14,
   "id": "1ac3ee9d",
   "metadata": {},
   "outputs": [
    {
     "name": "stdout",
     "output_type": "stream",
     "text": [
      "<re.Match object; span=(0, 4), match='peng'>\n",
      "<re.Match object; span=(4, 8), match='ping'>\n",
      "<re.Match object; span=(1, 5), match='pong'>\n"
     ]
    }
   ],
   "source": [
    "print(re.search(r\"p.ng\", \"penguin\"))\n",
    "print(re.search(r\"p.ng\",\"clapping\"))\n",
    "print(re.search(r\"p.ng\", \"sponge\"))"
   ]
  },
  {
   "cell_type": "markdown",
   "id": "3c8cb9fe",
   "metadata": {},
   "source": [
    "**Check if the text passed contains the vowels a, e and i, with exactly one occurrence of any other character in between.**"
   ]
  },
  {
   "cell_type": "code",
   "execution_count": 15,
   "id": "cf7ff388",
   "metadata": {},
   "outputs": [
    {
     "name": "stdout",
     "output_type": "stream",
     "text": [
      "True\n",
      "False\n",
      "True\n"
     ]
    }
   ],
   "source": [
    "def check_aei(text):\n",
    "    result = re.search(r\"a.e.i\", text)\n",
    "    return result != None\n",
    "\n",
    "print(check_aei(\"academia\"))\n",
    "print(check_aei(\"aerial\"))\n",
    "print(check_aei(\"paramedic\"))"
   ]
  },
  {
   "cell_type": "markdown",
   "id": "e285cdcd",
   "metadata": {},
   "source": [
    "**Additional options to the search function can be added as a 3rd parameter. <br>\n",
    "The re.IGNORECASE option returns a match that is case insensitive**"
   ]
  },
  {
   "cell_type": "code",
   "execution_count": 16,
   "id": "0e63700a",
   "metadata": {},
   "outputs": [
    {
     "data": {
      "text/plain": [
       "<re.Match object; span=(0, 4), match='Pang'>"
      ]
     },
     "execution_count": 16,
     "metadata": {},
     "output_type": "execute_result"
    }
   ],
   "source": [
    "re.search(r\"p.ng\", \"Pangaea\", re.IGNORECASE)"
   ]
  },
  {
   "cell_type": "markdown",
   "id": "b1f75609",
   "metadata": {},
   "source": [
    "# Wildcards and Character Classes"
   ]
  },
  {
   "cell_type": "markdown",
   "id": "00f7b922",
   "metadata": {},
   "source": [
    "**Character classes are written inside square brackets and let us list the characters we want to match inside of those brackets**"
   ]
  },
  {
   "cell_type": "code",
   "execution_count": 28,
   "id": "a296a78c",
   "metadata": {},
   "outputs": [
    {
     "name": "stdout",
     "output_type": "stream",
     "text": [
      "<re.Match object; span=(0, 6), match='python'>\n",
      "<re.Match object; span=(0, 6), match='Python'>\n"
     ]
    }
   ],
   "source": [
    "print(re.search(r\"[Pp]ython\", \"python\"))\n",
    "print(re.search(r\"[Pp]ython\", \"Python\"))"
   ]
  },
  {
   "cell_type": "markdown",
   "id": "1ed9786b",
   "metadata": {},
   "source": [
    "**A range of characters classes can be defined using a dash, for examples: a-z, A-Z, 0-9**"
   ]
  },
  {
   "cell_type": "code",
   "execution_count": 27,
   "id": "13e76dcb",
   "metadata": {},
   "outputs": [
    {
     "name": "stdout",
     "output_type": "stream",
     "text": [
      "<re.Match object; span=(18, 22), match='hway'>\n",
      "None\n"
     ]
    }
   ],
   "source": [
    "print(re.search(r\"[a-z]way\", \"The end of the highway\"))\n",
    "print(re.search(r\"[a-z]way\", \"What a way to go\"))  # Return None because the string way is preceded by a space."
   ]
  },
  {
   "cell_type": "code",
   "execution_count": 24,
   "id": "50652407",
   "metadata": {},
   "outputs": [
    {
     "name": "stdout",
     "output_type": "stream",
     "text": [
      "<re.Match object; span=(0, 6), match='cloudy'>\n",
      "<re.Match object; span=(0, 6), match='cloud9'>\n"
     ]
    }
   ],
   "source": [
    "print(re.search(r\"cloud[a-zA-Z0-9]\", \"cloudy\"))\n",
    "print(re.search(r\"cloud[a-zA-Z0-9]\", \"cloud9\"))"
   ]
  },
  {
   "cell_type": "markdown",
   "id": "39d9610d",
   "metadata": {},
   "source": [
    "**Check if the text passed contains punctuation symbols: commas, periods, colons, semicolons, question marks, and exclamation points.**"
   ]
  },
  {
   "cell_type": "code",
   "execution_count": 26,
   "id": "f8791cc4",
   "metadata": {},
   "outputs": [
    {
     "name": "stdout",
     "output_type": "stream",
     "text": [
      "True\n",
      "False\n",
      "True\n",
      "True\n",
      "False\n"
     ]
    }
   ],
   "source": [
    "def check_punctuation (text):\n",
    "    result = re.search(r\"[,.:;?!]\", text)\n",
    "    return result != None\n",
    "\n",
    "print(check_punctuation(\"This is a sentence that ends with a period.\"))\n",
    "print(check_punctuation(\"This is a sentence fragment without a period\"))\n",
    "print(check_punctuation(\"Aren't regular expressions awesome?\"))\n",
    "print(check_punctuation(\"Wow! We're really picking up some steam now!\"))\n",
    "print(check_punctuation(\"End of the line\"))"
   ]
  },
  {
   "cell_type": "markdown",
   "id": "c9426361",
   "metadata": {},
   "source": [
    "**Sometimes we may want to match any characters that aren't in a group. <br> To do that, we use a circumflex (^) inside the square brackets. For example, let's create a search pattern that looks for any characters that's not a letter.**"
   ]
  },
  {
   "cell_type": "code",
   "execution_count": 36,
   "id": "0e87638b",
   "metadata": {},
   "outputs": [
    {
     "name": "stdout",
     "output_type": "stream",
     "text": [
      "<re.Match object; span=(0, 1), match='T'>\n"
     ]
    }
   ],
   "source": [
    "print(re.search(r\"[a-zA-Z]\", \"This is a sentence.\")) # This will find the space in btw this and is which is index no.4"
   ]
  },
  {
   "cell_type": "code",
   "execution_count": 37,
   "id": "aac99221",
   "metadata": {
    "scrolled": true
   },
   "outputs": [
    {
     "name": "stdout",
     "output_type": "stream",
     "text": [
      "<re.Match object; span=(18, 19), match='.'>\n"
     ]
    }
   ],
   "source": [
    "print(re.search(r\"[^a-zA-Z ]\", \"This is a sentence.\")) # This gives us the period becasue we added a space inside the /\n",
    "                                                       # character class"
   ]
  },
  {
   "cell_type": "markdown",
   "id": "d600a917",
   "metadata": {},
   "source": [
    "**If we want to match either one expression or another, we can use the pipe symbol (| )to do that. <br>\n",
    "This lets us list alternative options that can get matched. <br>\n",
    "For example, we could have an expression that matches either the word cat or the word dog**"
   ]
  },
  {
   "cell_type": "code",
   "execution_count": 40,
   "id": "e81a5453",
   "metadata": {},
   "outputs": [
    {
     "name": "stdout",
     "output_type": "stream",
     "text": [
      "<re.Match object; span=(9, 12), match='dog'>\n",
      "<re.Match object; span=(10, 13), match='cat'>\n"
     ]
    }
   ],
   "source": [
    "print(re.search(r\"cat|dog\", \"He likes dogs.\"))\n",
    "print(re.search(r\"cat|dog\", \"She likes cats.\"))"
   ]
  },
  {
   "cell_type": "code",
   "execution_count": 41,
   "id": "f96a748a",
   "metadata": {},
   "outputs": [
    {
     "name": "stdout",
     "output_type": "stream",
     "text": [
      "<re.Match object; span=(12, 15), match='dog'>\n"
     ]
    }
   ],
   "source": [
    "print(re.search(r\"cat|dog\", \"I like both dogs and cats.\"))  # We actually have 2 possible matches, but this will only /\n",
    "                                                            # return the first one."
   ]
  },
  {
   "cell_type": "markdown",
   "id": "62fefdb1",
   "metadata": {},
   "source": [
    "**To get all possible matches, use the findall() Function** "
   ]
  },
  {
   "cell_type": "code",
   "execution_count": 42,
   "id": "8c5bdd7f",
   "metadata": {},
   "outputs": [
    {
     "name": "stdout",
     "output_type": "stream",
     "text": [
      "['dog', 'cat']\n"
     ]
    }
   ],
   "source": [
    "print(re.findall(r\"cat|dog\", \"I like both dogs and cats.\"))"
   ]
  },
  {
   "cell_type": "markdown",
   "id": "d42fd2a4",
   "metadata": {},
   "source": [
    "# Repetition Qualifiers"
   ]
  },
  {
   "cell_type": "markdown",
   "id": "ea4aed23",
   "metadata": {},
   "source": [
    "**So we wanted to find the longest word in the string, or we wanted to find the host names in a log file by checking for a bunch of alphanumeric characters between brackets. We can do this using another interesting RegEx concept - repeated matches.**<br>\n",
    "**It's quite common to see expressions that include a dot followed by a star (.*). This means that it matches any character repeated as many times as possible including zero.**"
   ]
  },
  {
   "cell_type": "code",
   "execution_count": 43,
   "id": "a041990a",
   "metadata": {},
   "outputs": [
    {
     "name": "stdout",
     "output_type": "stream",
     "text": [
      "<re.Match object; span=(0, 9), match='Pygmalion'>\n"
     ]
    }
   ],
   "source": [
    "print(re.search(r\"Py.*n\", \"Pygmalion\"))"
   ]
  },
  {
   "cell_type": "markdown",
   "id": "8bf4c705",
   "metadata": {},
   "source": [
    "**Repeated matches is a common expressions that include a . followed by a * It matches any character repeated as many times as possible including zero. The Star takes as many characters as possible. In programming terms, we say that this behavior is greedy. <br>\n",
    "It's possible to modify the repetition qualifiers to make them less greedy.**"
   ]
  },
  {
   "cell_type": "code",
   "execution_count": 44,
   "id": "020147d2",
   "metadata": {
    "scrolled": true
   },
   "outputs": [
    {
     "name": "stdout",
     "output_type": "stream",
     "text": [
      "<re.Match object; span=(0, 17), match='Python Programmin'>\n"
     ]
    }
   ],
   "source": [
    "print(re.search(r\"Py.*n\", \"Python Programming\"))  # This is greedy behavior, while our pattern could have matched the /\n",
    "                                                  # word Python, it expanded all the way until the last n in the string. "
   ]
  },
  {
   "cell_type": "code",
   "execution_count": 45,
   "id": "fd3eea17",
   "metadata": {},
   "outputs": [
    {
     "name": "stdout",
     "output_type": "stream",
     "text": [
      "<re.Match object; span=(0, 6), match='Python'>\n"
     ]
    }
   ],
   "source": [
    "print(re.search(r\"Py[a-z]*n\", \"Python Programming\"))  # If we only wanted our patterns match letters, we should have /\n",
    "                                                      # used the character class instead like this."
   ]
  },
  {
   "cell_type": "code",
   "execution_count": null,
   "id": "4cafb22a",
   "metadata": {},
   "outputs": [],
   "source": [
    "print(re.search(r\"Py.*n\", \"Pyn\"))  # Zero times is also a possibility, that will let the string pyn also match our pattern"
   ]
  },
  {
   "cell_type": "markdown",
   "id": "c7a9db27",
   "metadata": {},
   "source": [
    "**Use a plus (+) to match one or more occurrences of the character that comes before it**"
   ]
  },
  {
   "cell_type": "code",
   "execution_count": 46,
   "id": "a83d21a6",
   "metadata": {},
   "outputs": [
    {
     "name": "stdout",
     "output_type": "stream",
     "text": [
      "<re.Match object; span=(1, 3), match='ol'>\n",
      "<re.Match object; span=(1, 5), match='ooll'>\n",
      "None\n"
     ]
    }
   ],
   "source": [
    "print(re.search(r\"o+l+\", \"goldfish\"))\n",
    "print(re.search(r\"o+l+\", \"woolly\"))\n",
    "print(re.search(r\"o+l+\", \"boil\"))  # There's an in the btwn o and l, so it doesn't match"
   ]
  },
  {
   "cell_type": "markdown",
   "id": "558562f4",
   "metadata": {},
   "source": [
    "**# Use question mark (?) for either zero or one occurrence of the character before it. It is used to specified optional characters**"
   ]
  },
  {
   "cell_type": "code",
   "execution_count": 48,
   "id": "2bbe72a7",
   "metadata": {
    "scrolled": true
   },
   "outputs": [
    {
     "name": "stdout",
     "output_type": "stream",
     "text": [
      "<re.Match object; span=(3, 7), match='each'>\n",
      "<re.Match object; span=(7, 12), match='peach'>\n"
     ]
    }
   ],
   "source": [
    "print(re.search(r\"p?each\", \"To each their own\"))  # The P wasn't present but with the question mark we marked it as /\n",
    "                                                  # optional. So we still got a match."
   ]
  },
  {
   "cell_type": "code",
   "execution_count": 50,
   "id": "c0ebf486",
   "metadata": {},
   "outputs": [
    {
     "name": "stdout",
     "output_type": "stream",
     "text": [
      "<re.Match object; span=(7, 12), match='peach'>\n"
     ]
    }
   ],
   "source": [
    "print(re.search(r\"p?each\", \"I like peaches\"))  # If the p is presents and so match included it."
   ]
  },
  {
   "cell_type": "markdown",
   "id": "7fa5e8b9",
   "metadata": {},
   "source": [
    "**The repeating_letter_a function checks if the text passed includes the letter \"a\" (lowercase or uppercase) at least twice.<br> For example, repeating_letter_a(\"banana\") is True, while repeating_letter_a(\"pineapple\") is False.**\n",
    "* Note: \n",
    " * \\* repeats a character zero or more times\n",
    " * \\+ repeats a character one or more times"
   ]
  },
  {
   "cell_type": "code",
   "execution_count": 52,
   "id": "e63dce23",
   "metadata": {},
   "outputs": [
    {
     "name": "stdout",
     "output_type": "stream",
     "text": [
      "True\n",
      "False\n",
      "True\n",
      "True\n"
     ]
    }
   ],
   "source": [
    "def repeating_letter_a(text):\n",
    "    result = re.search(r\"[Aa].*[aA]\", text)  # Also can >> result = re.search(r\"[aA]+.*a\", text)\n",
    "    return result != None\n",
    "\n",
    "print(repeating_letter_a(\"banana\"))\n",
    "print(repeating_letter_a(\"pineapple\"))\n",
    "print(repeating_letter_a(\"Animal Kingdom\"))\n",
    "print(repeating_letter_a(\"A is for apple\"))"
   ]
  },
  {
   "cell_type": "markdown",
   "id": "93a5e378",
   "metadata": {},
   "source": [
    "# Escaping Characters\n",
    "* A pattern that includes a \\ could be escaping a special regex character or a special string character, use an escape character (\\\\) to match one of the special characters"
   ]
  },
  {
   "cell_type": "code",
   "execution_count": 8,
   "id": "39cb6fd4",
   "metadata": {},
   "outputs": [
    {
     "name": "stdout",
     "output_type": "stream",
     "text": [
      "<re.Match object; span=(2, 6), match='lcom'>\n",
      "None\n",
      "<re.Match object; span=(2, 6), match='.com'>\n"
     ]
    }
   ],
   "source": [
    "print(re.search(r\".com\", \"welcome\"))  # This will search \"_com\", so it will search \"lcom\" \n",
    "print(re.search(r\"\\.com\", \"welcome\")) # This will search \".com\" exactly, so it will search nothing.\n",
    "print(re.search(r\"\\.com\", \"gg.com\"))  # This will search \".com\" edactly, so it can search anything with \".com\""
   ]
  },
  {
   "cell_type": "markdown",
   "id": "223e3690",
   "metadata": {},
   "source": [
    "**Use \\w to match any alphanumeric character including letters, numbers, and underscores<br>\n",
    "Use \\d to match digits<br>\n",
    "Use \\D to match non-digits<br>\n",
    "Use \\s for matching whitespace characters like space, tab or new line<br>\n",
    "Use \\b for word boundaries**"
   ]
  },
  {
   "cell_type": "code",
   "execution_count": 5,
   "id": "435705b0",
   "metadata": {},
   "outputs": [
    {
     "name": "stdout",
     "output_type": "stream",
     "text": [
      "<re.Match object; span=(0, 4), match='This'>\n",
      "<re.Match object; span=(0, 19), match='And_this_is_another'>\n",
      "<re.Match object; span=(0, 18), match='_this_is_the_third'>\n",
      "<re.Match object; span=(0, 0), match=''>\n",
      "<re.Match object; span=(8, 9), match=' '>\n"
     ]
    }
   ],
   "source": [
    "print(re.search(r\"\\w*\", \"This is an example\"))  # Pattern mataches the 1st four letters until the space because /                                               # spaces aren't part of that set of characters.\n",
    "print(re.search(r\"\\w*\", \"And_this_is_another\")) # This matched the whole string. \n",
    "print(re.search(r\"\\w*\", \"_this_is_the_third\"))  # Underscore considered as alphanumeric\n",
    "print(re.search(r\"\\d*\", \"Numbers_are_1_and_2\"))\n",
    "print(re.search(r\"\\s\", \"__Dunder Init__\"))c"
   ]
  },
  {
   "cell_type": "markdown",
   "id": "32cd3f87",
   "metadata": {},
   "source": [
    "**check if the text passed has at least 2 groups of alphanumeric characters (including letters, numbers, and underscores) separated by one or more whitespace characters.**"
   ]
  },
  {
   "cell_type": "code",
   "execution_count": 18,
   "id": "0ec1f4ec",
   "metadata": {},
   "outputs": [
    {
     "name": "stdout",
     "output_type": "stream",
     "text": [
      "False\n",
      "True\n",
      "True\n",
      "False\n"
     ]
    }
   ],
   "source": [
    "def check_character_groups(text):\n",
    "    result = re.search(r\"[0-9]\\w\", text)\n",
    "    return result != None\n",
    "\n",
    "print(check_character_groups(\"One\")) # False\n",
    "print(check_character_groups(\"123  Ready Set GO\")) # True\n",
    "print(check_character_groups(\"username user_01\")) # True\n",
    "print(check_character_groups(\"shopping_list: milk, bread, eggs.\")) # False"
   ]
  },
  {
   "cell_type": "markdown",
   "id": "79c2c37f",
   "metadata": {},
   "source": [
    "# Regular Expressions in Action"
   ]
  },
  {
   "cell_type": "markdown",
   "id": "7e952dc0",
   "metadata": {},
   "source": [
    "**For example, say you had a list of all the countries in the world and you want to check which of those names start and end in a. <br>\"A.\\*a\" will only return characters in between A and a**"
   ]
  },
  {
   "cell_type": "code",
   "execution_count": 13,
   "id": "dee275d3",
   "metadata": {},
   "outputs": [
    {
     "name": "stdout",
     "output_type": "stream",
     "text": [
      "<re.Match object; span=(0, 9), match='Argentina'>\n",
      "<re.Match object; span=(0, 9), match='Azerbaija'>\n"
     ]
    }
   ],
   "source": [
    "print(re.search(r\"A.*a\", \"Argentina\"))\n",
    "print(re.search(r\".*a\", \"Azerbaijan\"))  # \"Azerbaijan\" returns \"Azerbaija\" because we did not specify the end"
   ]
  },
  {
   "cell_type": "markdown",
   "id": "33c9ca1f",
   "metadata": {},
   "source": [
    "**By adding a dollar sign to our pattern, we've made it clear that we only want to match lines that begin and end with the letter a**"
   ]
  },
  {
   "cell_type": "code",
   "execution_count": 8,
   "id": "52633ee0",
   "metadata": {},
   "outputs": [
    {
     "name": "stdout",
     "output_type": "stream",
     "text": [
      "None\n",
      "<re.Match object; span=(0, 9), match='Australia'>\n"
     ]
    }
   ],
   "source": [
    "print(re.search(r\"^A.*a$\", \"Azerbaijan\"))\n",
    "print(re.search(r\"^A.*a$\", \"Australia\"))"
   ]
  },
  {
   "cell_type": "markdown",
   "id": "452b1cdd",
   "metadata": {},
   "source": [
    "**Using regular expressions, we can also construct a pattern that would validate if the string is a valid variable name in Python. It can contain any number of letters numbers or underscores, but it can't start with a number.**"
   ]
  },
  {
   "cell_type": "code",
   "execution_count": 20,
   "id": "b770c29e",
   "metadata": {},
   "outputs": [
    {
     "name": "stdout",
     "output_type": "stream",
     "text": [
      "<re.Match object; span=(0, 30), match='_this_is_a_valid_variable_name'>\n",
      "None\n",
      "<re.Match object; span=(0, 12), match='my_variable1'>\n",
      "None\n"
     ]
    }
   ],
   "source": [
    "pattern = r\"^[a-zA-Z_][a-zA-Z0-9_]*$\"  # If use: r\"^[a-zA-Z0-9_]*$\", then the strings can start with a number\n",
    "print(re.search(pattern, \"_this_is_a_valid_variable_name\"))\n",
    "print(re.search(pattern, \"this isn't a valid variable name\"))\n",
    "print(re.search(pattern, \"my_variable1\"))\n",
    "print(re.search(pattern, \"2my_variable1\"))"
   ]
  },
  {
   "cell_type": "markdown",
   "id": "74e719ee",
   "metadata": {},
   "source": [
    "**Check if the text passed looks like a standard sentence, meaning that it starts with an uppercase letter, followed by at least some lowercase letters or a space, and ends with a period, question mark, or exclamation point.**\n",
    "* `^` must start at the beginning of the input string\n",
    "* `[A-Z][a-z]*` the first word must start with a capital letter, followed by an arbitrary number of lowercase letters\n",
    "* `(\\s[a-z]+)*` after the first word, there can be an arbitrary number of additional words (also zero). Each word must be preceded by one white space (we can also use just a space instead of `\\s` to only allow space but not for instance tab) and consist of at least one lowercase letter\n",
    "* `[\\.!\\?]$` the punctuation must be at the end of the input string."
   ]
  },
  {
   "cell_type": "code",
   "execution_count": 37,
   "id": "e41499e1",
   "metadata": {},
   "outputs": [
    {
     "name": "stdout",
     "output_type": "stream",
     "text": [
      "True\n",
      "False\n",
      "False\n",
      "False\n",
      "True\n"
     ]
    }
   ],
   "source": [
    "def check_sentence(text):\n",
    "    result = re.search(r\"^[A-Z][ |a-z]*[.?\\!]$\", text)  # If use r\"^[A-Z][a-z]*(\\s[a-z]+)*[\\.!\\?]$\", then can forbidding /\n",
    "    return result != None                               # consecutive spaces and spaces directly before punctuations.\n",
    "\n",
    "print(check_sentence(\"Is this is a sentence?\")) # True\n",
    "print(check_sentence(\"is this is a sentence?\")) # False\n",
    "print(check_sentence(\"Hello\")) # False\n",
    "print(check_sentence(\"1-2-3-GO!\")) # False\n",
    "print(check_sentence(\"A star is born.\")) # True"
   ]
  }
 ],
 "metadata": {
  "kernelspec": {
   "display_name": "Python 3",
   "language": "python",
   "name": "python3"
  },
  "language_info": {
   "codemirror_mode": {
    "name": "ipython",
    "version": 3
   },
   "file_extension": ".py",
   "mimetype": "text/x-python",
   "name": "python",
   "nbconvert_exporter": "python",
   "pygments_lexer": "ipython3",
   "version": "3.8.8"
  }
 },
 "nbformat": 4,
 "nbformat_minor": 5
}
