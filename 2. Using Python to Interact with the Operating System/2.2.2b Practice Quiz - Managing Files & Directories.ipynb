{
 "cells": [
  {
   "cell_type": "markdown",
   "id": "9479ff95",
   "metadata": {},
   "source": [
    "### 1. The create_python_script function creates a new python script in the current working directory, adds the line of comments to it declared  by the 'comments' variable, and returns the size of the new file. Fill in the gaps to create a script called \"program.py\"."
   ]
  },
  {
   "cell_type": "code",
   "execution_count": 4,
   "id": "bfbc09c9",
   "metadata": {},
   "outputs": [],
   "source": [
    "import os\n",
    "import datetime as dt"
   ]
  },
  {
   "cell_type": "code",
   "execution_count": 7,
   "id": "c04ece48",
   "metadata": {},
   "outputs": [
    {
     "name": "stdout",
     "output_type": "stream",
     "text": [
      "31\n"
     ]
    }
   ],
   "source": [
    "def create_python_script(filename):\n",
    "    comments = \"# Start of a new Python program\"\n",
    "    with open(filename, \"w\") as f:\n",
    "        f.write(comments)\n",
    "#         filesize = os.path.getsize(filename)\n",
    "        filesize = len(comments)\n",
    "    return(filesize)\n",
    "\n",
    "print(create_python_script(\"program.py\"))"
   ]
  },
  {
   "cell_type": "markdown",
   "id": "acb4c271",
   "metadata": {},
   "source": [
    "### 2. The new_directory function creates a new directory inside the current working directory, then creates a new empty file inside the new directory, and returns the list of files in that directory. Fill in the gaps to create a file \"script.py\" in the directory \"PythonPrograms\". "
   ]
  },
  {
   "cell_type": "code",
   "execution_count": 16,
   "id": "d918496e",
   "metadata": {},
   "outputs": [
    {
     "name": "stdout",
     "output_type": "stream",
     "text": [
      "['script.py']\n"
     ]
    }
   ],
   "source": [
    "def new_directory(directory, filename):\n",
    "    \n",
    "    cw = os.getcwd() # Notedown current working directory\n",
    "    # Before creating a new directory, check to see if it already exists\n",
    "    if os.path.isdir(directory) == False:\n",
    "        os.mkdir(directory)\n",
    "\n",
    "    # Create the new file inside of the new directory\n",
    "    os.chdir(directory)\n",
    "    with open (filename, \"w+\") as file:\n",
    "        pass\n",
    "    os.chdir(cw) #switch to previous working directory\n",
    "    ls = os.listdir(directory)\n",
    "\n",
    "    # Return the list of files in the new directory\n",
    "    return ls\n",
    "\n",
    "print(new_directory(\"PythonPrograms\", \"script.py\"))"
   ]
  },
  {
   "cell_type": "markdown",
   "id": "d90ccba0",
   "metadata": {},
   "source": [
    "### 3. The file_date function creates a new file in the current working directory, checks the date that the file was modified, and returns just the date portion of the timestamp in the format of yyyy-mm-dd. Fill in the gaps to create a file called \"newfile.txt\" and check the date that it was modified."
   ]
  },
  {
   "cell_type": "code",
   "execution_count": 10,
   "id": "1a918c8d",
   "metadata": {},
   "outputs": [
    {
     "name": "stdout",
     "output_type": "stream",
     "text": [
      "2021-06-13\n"
     ]
    }
   ],
   "source": [
    "def file_date(filename):\n",
    "    \n",
    "    # Create the file in the current directory\n",
    "    with open(filename, \"w\") as f:\n",
    "        pass\n",
    "    timestamp = os.path.getmtime(filename)\n",
    "    \n",
    "    # Convert the timestamp into a readable format, then into a string\n",
    "    new_time = datetime.date.fromtimestamp(timestamp)\n",
    "    \n",
    "    # Return just the date portion\n",
    "    return (f\"{new_time}\")\n",
    "\n",
    "print(file_date(\"newfile.txt\")) # It would be today's date in the format of yyyy-mm-dd as we are modifying this file."
   ]
  },
  {
   "cell_type": "markdown",
   "id": "264ab208",
   "metadata": {},
   "source": [
    "### 4. The parent_directory function returns the name of the directory that's located just above the current working directory. Remember that '..' is a relative path alias that means \"go up to the parent directory\". Fill in the gaps to complete this function."
   ]
  },
  {
   "cell_type": "code",
   "execution_count": 15,
   "id": "81b2901b",
   "metadata": {},
   "outputs": [
    {
     "name": "stdout",
     "output_type": "stream",
     "text": [
      "D:\\iCloud Drive\\Online Courses\\Coursera\\Google IT Automation with Python Professional Certificate\\PythonPrograms\n"
     ]
    }
   ],
   "source": [
    "def parent_directory():\n",
    "    \n",
    "    # Create a relative path to the parent of the current working directory\n",
    "    relative_parent = os.path.join(\"..\")  # Under parent directory\n",
    "\n",
    "    # Return the absolute path of the parent directory\n",
    "    return os.path.abspath(relative_parent)\n",
    "\n",
    "print(parent_directory())"
   ]
  }
 ],
 "metadata": {
  "kernelspec": {
   "display_name": "Python 3",
   "language": "python",
   "name": "python3"
  },
  "language_info": {
   "codemirror_mode": {
    "name": "ipython",
    "version": 3
   },
   "file_extension": ".py",
   "mimetype": "text/x-python",
   "name": "python",
   "nbconvert_exporter": "python",
   "pygments_lexer": "ipython3",
   "version": "3.8.8"
  }
 },
 "nbformat": 4,
 "nbformat_minor": 5
}
