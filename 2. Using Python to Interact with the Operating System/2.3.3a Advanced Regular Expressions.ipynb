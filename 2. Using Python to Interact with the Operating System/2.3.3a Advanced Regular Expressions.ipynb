{
 "cells": [
  {
   "cell_type": "markdown",
   "id": "273ac890",
   "metadata": {},
   "source": [
    "# Capturing Groups"
   ]
  },
  {
   "cell_type": "markdown",
   "id": "6db002b1",
   "metadata": {},
   "source": [
    "**Use parentheses to capture groups which are portions of the pattern that are enclosed in parentheses**"
   ]
  },
  {
   "cell_type": "markdown",
   "id": "be366921",
   "metadata": {},
   "source": [
    "**Let's say that we have a list of people's full names. These names are stored as last name, comma, first name. We want to turn this around and create a string that starts with the first name followed by the last name.**"
   ]
  },
  {
   "cell_type": "code",
   "execution_count": 1,
   "id": "69d074e3",
   "metadata": {},
   "outputs": [
    {
     "name": "stdout",
     "output_type": "stream",
     "text": [
      "<re.Match object; span=(0, 13), match='Lovelace, Ada'>\n",
      "('Lovelace', 'Ada')\n",
      "Lovelace, Ada\n",
      "Lovelace\n",
      "Ada\n",
      "Ada Lovelace\n"
     ]
    }
   ],
   "source": [
    "import re\n",
    "result = re.search(r\"^(\\w*), (\\w*)$\", \"Lovelace, Ada\")\n",
    "print(result)\n",
    "\n",
    "print(result.groups())  # Because we defined two separate groups, the group method returns a tuple of two elements\n",
    "print(result[0])\n",
    "print(result[1])\n",
    "print(result[2])\n",
    "print(f\"{result[2]} {result[1]}\")"
   ]
  },
  {
   "cell_type": "markdown",
   "id": "f0a5b656",
   "metadata": {},
   "source": [
    "**Let's put this into a function that would do the rearranging for us. We'll start by defining a function called rearrange_name, that receives a name by parameter.**"
   ]
  },
  {
   "cell_type": "code",
   "execution_count": 2,
   "id": "cb02bccb",
   "metadata": {},
   "outputs": [
    {
     "name": "stdout",
     "output_type": "stream",
     "text": [
      "Ada Lovelace\n",
      "Dennis Ritchie\n",
      "Hopper, Grace M.\n"
     ]
    }
   ],
   "source": [
    "def rearrange_name(name):\n",
    "    result = re.search(r\"^(\\w*), (\\w*)$\", name)\n",
    "    \n",
    "    if result is None:\n",
    "        return name\n",
    "    return f\"{result[2]} {result[1]}\"\n",
    "\n",
    "print(rearrange_name(\"Lovelace, Ada\"))\n",
    "print(rearrange_name(\"Ritchie, Dennis\"))\n",
    "print(rearrange_name(\"Hopper, Grace M.\"))  # Didn't match because we used the \\w character, which only matches letters."
   ]
  },
  {
   "cell_type": "markdown",
   "id": "a8edc4a1",
   "metadata": {},
   "source": [
    "**So we can modify what we need to do here is add the extra characters that we want to allow in the names. In this example we'd want to add spaces and dots**"
   ]
  },
  {
   "cell_type": "code",
   "execution_count": 10,
   "id": "3390d087",
   "metadata": {},
   "outputs": [
    {
     "name": "stdout",
     "output_type": "stream",
     "text": [
      "Grace M. Hopper\n",
      "John F. Kennedy\n"
     ]
    }
   ],
   "source": [
    "def rearrange_name(name):\n",
    "    result = re.search(r\"^([\\w \\.-]*), ([\\w \\.-]*)$\", name)\n",
    "    \n",
    "    if result is None:\n",
    "        return name\n",
    "    return f\"{result[2]} {result[1]}\"\n",
    "\n",
    "print(rearrange_name(\"Hopper, Grace M.\"))\n",
    "print(rearrange_name(\"Kennedy, John F.\"))"
   ]
  },
  {
   "cell_type": "markdown",
   "id": "fe4a8683",
   "metadata": {},
   "source": [
    "# More on Repetition Qualifiers"
   ]
  },
  {
   "cell_type": "markdown",
   "id": "85811a32",
   "metadata": {},
   "source": [
    "**To match any string of exactly five letters**"
   ]
  },
  {
   "cell_type": "code",
   "execution_count": 20,
   "id": "cecc5c7d",
   "metadata": {},
   "outputs": [
    {
     "name": "stdout",
     "output_type": "stream",
     "text": [
      "<re.Match object; span=(2, 7), match='scary'>\n",
      "['scary', 'ghost', 'appea']\n",
      "['scary', 'ghost']\n"
     ]
    }
   ],
   "source": [
    "print(re.search(r\"[a-zA-Z]{5}\", \"a scary ghost appeared\"))  # Only find the 1st one\n",
    "print(re.findall(r\"[a-zA-Z]{5}\", \"a scary ghost appeared\")) # Words more than 5 letters will still capture"
   ]
  },
  {
   "cell_type": "markdown",
   "id": "816241ee",
   "metadata": {},
   "source": [
    "**What if we wanted to match all the words that are exactly five letters long? We can do that using \\b, which matches word limits at the beginning and end of the pattern, to indicate that we want full words,**"
   ]
  },
  {
   "cell_type": "code",
   "execution_count": 21,
   "id": "db1ba341",
   "metadata": {},
   "outputs": [
    {
     "name": "stdout",
     "output_type": "stream",
     "text": [
      "['scary', 'ghost']\n"
     ]
    }
   ],
   "source": [
    "print(re.findall(r\"\\b[a-zA-Z]{5}\\b\", \"a scary ghost appeared\")) "
   ]
  },
  {
   "cell_type": "markdown",
   "id": "51d5dfa1",
   "metadata": {},
   "source": [
    "**If we wanted to match a range of 5 to 10 letters or numbers**|\n",
    "* Note: \"5,10\". 5 comma follow by 10 cannot with space in between them like this > \"5, 10\""
   ]
  },
  {
   "cell_type": "code",
   "execution_count": 29,
   "id": "fbe3069b",
   "metadata": {},
   "outputs": [
    {
     "name": "stdout",
     "output_type": "stream",
     "text": [
      "['really', 'strawberri']\n",
      "['really', 'strawberries']\n"
     ]
    }
   ],
   "source": [
    "print(re.findall(r\"\\w{5,10}\", \"I really like strawberries\"))  \n",
    "print(re.findall(r\"\\w{5,}\", \"I really like strawberries\"))   # The ranges can also be open ended, means at least /\n",
    "                                                             # that many repetitions with no upper boundary limited /\n",
    "                             c                                # only by the maximum repetitions in the source text."
   ]
  },
  {
   "cell_type": "code",
   "execution_count": 37,
   "id": "bbef28dd",
   "metadata": {},
   "outputs": [
    {
     "name": "stdout",
     "output_type": "stream",
     "text": [
      "['strawberries']\n"
     ]
    }
   ],
   "source": [
    "print(re.findall(r\"s\\w{,20}\", \"I really like strawberries\"))  # S followed by up to 20 alphanumeric characters. So we /\n",
    "                                                              # got a match for strawberries which starts with S, and /\n",
    "                                                              # is followed by 11 characters"
   ]
  },
  {
   "cell_type": "markdown",
   "id": "dd02999b",
   "metadata": {},
   "source": [
    "**The long_words function returns all words that are at least 7 characters.**"
   ]
  },
  {
   "cell_type": "code",
   "execution_count": 40,
   "id": "b8a7409d",
   "metadata": {},
   "outputs": [
    {
     "name": "stdout",
     "output_type": "stream",
     "text": [
      "['morning']\n",
      "['chocolate', 'afternoon']\n",
      "[]\n"
     ]
    }
   ],
   "source": [
    "def long_words(text):\n",
    "    pattern = r\"\\w{7,}\"\n",
    "    result = re.findall(pattern, text)\n",
    "    return result\n",
    "\n",
    "print(long_words(\"I like to drink coffee in the morning.\")) # ['morning']\n",
    "print(long_words(\"I also have a taste for hot chocolate in the afternoon.\")) # ['chocolate', 'afternoon']\n",
    "print(long_words(\"I never drink tea late at night.\")) # []"
   ]
  },
  {
   "cell_type": "markdown",
   "id": "d3ab9960",
   "metadata": {},
   "source": [
    "# Extracting a PID Using regexes in Python"
   ]
  },
  {
   "attachments": {
    "image-3.png": {
     "image/png": "[encoded data removed]"
    }
   },
   "cell_type": "markdown",
   "id": "6a313540",
   "metadata": {},
   "source": [
    "![image-3.png](attachment:image-3.png)"
   ]
  },
  {
   "cell_type": "markdown",
   "id": "80fa407c",
   "metadata": {},
   "source": [
    "**The first character of the pattern is the backslash, which is used as the escape character. This means that the next character, which is an open square bracket, is treated literally for matching purposes.<br>\n",
    "Since it isn't escaped, we know it'll be used as a capturing group. The capturing group parentheses are wrapping the backslash d+ symbols.<br>\n",
    "From special characters and repetition qualifiers, we know that this expression will match one or more numerical characters. After the closing parentheses of the capturing group, we have the closing square bracket symbol, also proceeded by the escape character.**"
   ]
  },
  {
   "cell_type": "code",
   "execution_count": 4,
   "id": "700351df",
   "metadata": {},
   "outputs": [
    {
     "name": "stdout",
     "output_type": "stream",
     "text": [
      "12345\n"
     ]
    }
   ],
   "source": [
    "log = \"July 31 07:51:48 mycomputer bad_process[12345]: ERROR Performing package upgrade\"\n",
    "regex = r\"\\[(\\d+)\\]\"\n",
    "result = re.search(regex, log)\n",
    "\n",
    "print(result[1])  # Because we're capturing groups in an expression, we can access the matching data by accessing \n",
    "                  # the value at index 1"
   ]
  },
  {
   "cell_type": "markdown",
   "id": "4fb28cbb",
   "metadata": {},
   "source": [
    "**Let's try our expression on a different string and check that it really works, no matter what the rest of the text is.**"
   ]
  },
  {
   "cell_type": "code",
   "execution_count": 5,
   "id": "17b44ee6",
   "metadata": {},
   "outputs": [
    {
     "name": "stdout",
     "output_type": "stream",
     "text": [
      "34567\n"
     ]
    }
   ],
   "source": [
    "result = re.search(regex, \"A completely different string that also has numbers [34567]\")\n",
    "print(result[1])"
   ]
  },
  {
   "cell_type": "markdown",
   "id": "f9dda8c8",
   "metadata": {},
   "source": [
    "**But what if our string didn't actually have a block of numbers between the square brackets?**\n",
    "* We tried to access the index 1 of a variable that was none. As Python tells us, this isn't something that we can do."
   ]
  },
  {
   "cell_type": "code",
   "execution_count": 7,
   "id": "bef7d229",
   "metadata": {},
   "outputs": [
    {
     "ename": "TypeError",
     "evalue": "'NoneType' object is not subscriptable",
     "output_type": "error",
     "traceback": [
      "\u001b[1;31m---------------------------------------------------------------------------\u001b[0m",
      "\u001b[1;31mTypeError\u001b[0m                                 Traceback (most recent call last)",
      "\u001b[1;32m<ipython-input-7-5ff01e974e9b>\u001b[0m in \u001b[0;36m<module>\u001b[1;34m\u001b[0m\n\u001b[0;32m      1\u001b[0m \u001b[0mresult\u001b[0m \u001b[1;33m=\u001b[0m \u001b[0mre\u001b[0m\u001b[1;33m.\u001b[0m\u001b[0msearch\u001b[0m\u001b[1;33m(\u001b[0m\u001b[0mregex\u001b[0m\u001b[1;33m,\u001b[0m \u001b[1;34m\"99 elephants in a [cage]\"\u001b[0m\u001b[1;33m)\u001b[0m\u001b[1;33m\u001b[0m\u001b[1;33m\u001b[0m\u001b[0m\n\u001b[1;32m----> 2\u001b[1;33m \u001b[0mprint\u001b[0m\u001b[1;33m(\u001b[0m\u001b[0mresult\u001b[0m\u001b[1;33m[\u001b[0m\u001b[1;36m0\u001b[0m\u001b[1;33m]\u001b[0m\u001b[1;33m)\u001b[0m\u001b[1;33m\u001b[0m\u001b[1;33m\u001b[0m\u001b[0m\n\u001b[0m",
      "\u001b[1;31mTypeError\u001b[0m: 'NoneType' object is not subscriptable"
     ]
    }
   ],
   "source": [
    "result = re.search(regex, \"99 elephants in a [cage]\")\n",
    "print(result[0])  # Return None"
   ]
  },
  {
   "cell_type": "markdown",
   "id": "8f365e9a",
   "metadata": {},
   "source": [
    "**We should have a function that extracts the process ID or PID when possible, and does something else if not.**\n",
    "* will start by defining a function called extract_pid."
   ]
  },
  {
   "cell_type": "code",
   "execution_count": 13,
   "id": "c0ce42a6",
   "metadata": {},
   "outputs": [
    {
     "name": "stdout",
     "output_type": "stream",
     "text": [
      "12345\n",
      "\n"
     ]
    }
   ],
   "source": [
    "def extract_pid(log_line):\n",
    "    regex = r\"\\[(\\d+)\\]\"\n",
    "    result = re.search(regex, log_line)\n",
    "    \n",
    "    if result is None:  # We know that if the search wasn't successful the result will be none.\n",
    "        return \"\"       # Let's say that if we couldn't find the PID, we'll return an empty string\n",
    "    return result[1]    # If we're at this point, it means the result is a match object. So we can access the /\n",
    "                        # first capturing group and return that.\n",
    "\n",
    "print(extract_pid(log))\n",
    "print(extract_pid(\"99 elephants in a [cage]\"))  # This didn't match and return empty string"
   ]
  },
  {
   "cell_type": "markdown",
   "id": "296069c5",
   "metadata": {},
   "source": [
    "**Add to the regular expression used in the extract_pid function above cell, to return the uppercase message in parenthesis, after the process id.**"
   ]
  },
  {
   "cell_type": "code",
   "execution_count": 16,
   "id": "5781e8d7",
   "metadata": {},
   "outputs": [
    {
     "name": "stdout",
     "output_type": "stream",
     "text": [
      "12345 (ERROR)\n",
      "None\n",
      "None\n",
      "67890 (RUNNING)\n"
     ]
    }
   ],
   "source": [
    "def extract_pid(log_line):\n",
    "    regex = r\"\\[(\\d+)\\]\\: (\\w+)\"\n",
    "    result = re.search(regex, log_line)\n",
    "    if result is None:\n",
    "        return None\n",
    "    return f\"{result[1]} ({result[2]})\"\n",
    "\n",
    "print(extract_pid(\"July 31 07:51:48 mycomputer bad_process[12345]: ERROR Performing package upgrade\")) # 12345 (ERROR)\n",
    "print(extract_pid(\"99 elephants in a [cage]\")) # None\n",
    "print(extract_pid(\"A string that also has numbers [34567] but no uppercase message\")) # None\n",
    "print(extract_pid(\"July 31 08:08:08 mycomputer new_process[67890]: RUNNING Performing backup\")) # 67890 (RUNNING)\n"
   ]
  },
  {
   "cell_type": "markdown",
   "id": "da131054",
   "metadata": {},
   "source": [
    "# Splitting and Replacing"
   ]
  },
  {
   "cell_type": "markdown",
   "id": "88ad0c0b",
   "metadata": {},
   "source": [
    "**re.split() in Regular Expression works similarly to the Python's split() function but split() only can split one punctuation (if without importing other modules like re or string.punctuation) at a time**"
   ]
  },
  {
   "cell_type": "code",
   "execution_count": 30,
   "id": "bae09cdc",
   "metadata": {},
   "outputs": [
    {
     "data": {
      "text/plain": [
       "['One sentence', ' Another one', ' And the last one', '']"
      ]
     },
     "execution_count": 30,
     "metadata": {},
     "output_type": "execute_result"
    }
   ],
   "source": [
    "re.split(r\"[.?!]\", \"One sentence. Another one? And the last one!\")"
   ]
  },
  {
   "cell_type": "markdown",
   "id": "0b76af5c",
   "metadata": {},
   "source": [
    "**If we want our split list to include the elements that we're using to split the values we can use capturing parentheses**"
   ]
  },
  {
   "cell_type": "code",
   "execution_count": 31,
   "id": "c4f3f2ff",
   "metadata": {},
   "outputs": [
    {
     "data": {
      "text/plain": [
       "['One sentence', '.', ' Another one', '?', ' And the last one', '!', '']"
      ]
     },
     "execution_count": 31,
     "metadata": {},
     "output_type": "execute_result"
    }
   ],
   "source": [
    "re.split(r\"([.?!])\", \"One sentence. Another one? And the last one!\")  # Just add the parentheses for the character class"
   ]
  },
  {
   "cell_type": "markdown",
   "id": "7ec5cb2a",
   "metadata": {},
   "source": [
    "**re.sub() used for creating new strings by substituting all or part of them for a different string, similar to the replace string method but using regular expressions for both the matching and the replacing.**\n",
    "* For example, we had some logs in our system that included e-mail addresses of users and we wanted to anonymize the data by removing all the addresses."
   ]
  },
  {
   "cell_type": "code",
   "execution_count": 32,
   "id": "0816c6ab",
   "metadata": {},
   "outputs": [
    {
     "name": "stdout",
     "output_type": "stream",
     "text": [
      "Received an email for [REDACTED]\n"
     ]
    }
   ],
   "source": [
    "print(re.sub(r\"[\\w.%+-]+@[\\w.-]+\", \"[REDACTED]\", \"Received an email for go_nuts95@my.example.com\"))"
   ]
  },
  {
   "cell_type": "markdown",
   "id": "c25eea82",
   "metadata": {},
   "source": [
    "**We can also switch the order of last names and first names of people and use re.sub() to create the new string**"
   ]
  },
  {
   "cell_type": "code",
   "execution_count": 38,
   "id": "f763672a",
   "metadata": {},
   "outputs": [
    {
     "name": "stdout",
     "output_type": "stream",
     "text": [
      "Ada Lovelace\n",
      "H. W. Bush George\n"
     ]
    }
   ],
   "source": [
    "print(re.sub(r\"^([\\w .-]*), ([\\w .-]*)$\", r\"\\2 \\1\", \"Lovelace, Ada\"))\n",
    "print(re.sub(r\"^([\\w .-]*), ([\\w .-]*)$\", r\"\\2 \\1\", \"George, H. W. Bush\"))"
   ]
  }
 ],
 "metadata": {
  "kernelspec": {
   "display_name": "Python 3",
   "language": "python",
   "name": "python3"
  },
  "language_info": {
   "codemirror_mode": {
    "name": "ipython",
    "version": 3
   },
   "file_extension": ".py",
   "mimetype": "text/x-python",
   "name": "python",
   "nbconvert_exporter": "python",
   "pygments_lexer": "ipython3",
   "version": "3.8.8"
  }
 },
 "nbformat": 4,
 "nbformat_minor": 5
}
